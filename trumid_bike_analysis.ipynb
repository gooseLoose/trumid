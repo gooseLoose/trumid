{
 "cells": [
  {
   "cell_type": "code",
   "execution_count": 1,
   "metadata": {},
   "outputs": [],
   "source": [
    "import json\n",
    "\n",
    "from bike_analysis.source.cloud_functions.bike_theft import theft_analysis\n",
    "from bike_analysis.source.cloud_functions.station_inventory import inventory_notification\n"
   ]
  },
  {
   "cell_type": "code",
   "execution_count": 2,
   "metadata": {},
   "outputs": [
    {
     "name": "stdout",
     "output_type": "stream",
     "text": [
      "{'start_station_name': 'Steinway St & 28 Ave', 'start_station_id': 123, 'starttime': '', 'inventory_status': 0, 'inventory_count': 30}\n",
      "{'start_station_name': 'Allen St & Rivington St', 'start_station_id': 123, 'starttime': '', 'inventory_status': 0, 'inventory_count': 30}\n",
      "{'start_station_name': 'E 19 St & 3 Ave', 'start_station_id': 123, 'starttime': '', 'inventory_status': 1, 'inventory_count': 0}\n",
      "{}\n"
     ]
    }
   ],
   "source": [
    "# Examples of the code working below when it has been provided with several dictionaries to take in and read. This is really just to show that inventory counts can be taken in, reviewed\n",
    "# and then if necessary a message outputted from the analysze function within the code.\n",
    "\n",
    "with open(\"data/inventory_data.json\") as data:\n",
    "    inv_data = json.load(data)\n",
    "\n",
    "\n",
    "for data_pack in inv_data:\n",
    "    inv_work = inventory_notification.analyze_station_inv(data_pack)\n",
    "    print(inv_work)"
   ]
  },
  {
   "cell_type": "code",
   "execution_count": 3,
   "metadata": {},
   "outputs": [
    {
     "name": "stdout",
     "output_type": "stream",
     "text": [
      "{}\n",
      "{'start_station_name': 'W 38 St & 8 Ave', 'start_station_id': 523, 'end_station_name': 'NYCBS Depot BAL - DYR', 'end_station_id': 3240, 'usertype': 'Subscriber', 'bikeid': 16316, 'tripduration': 22434}\n",
      "{'start_station_name': 'West St & Chambers St', 'start_station_id': 426, 'end_station_name': 'NYCBS Depot BAL - DYR', 'end_station_id': 3240, 'usertype': 'Subscriber', 'bikeid': 17277, 'tripduration': 23137}\n",
      "{}\n",
      "{}\n",
      "{}\n",
      "{}\n",
      "{}\n",
      "{}\n",
      "{}\n",
      "{}\n",
      "{}\n",
      "{}\n",
      "{}\n",
      "{}\n",
      "{}\n",
      "{}\n",
      "{}\n",
      "{}\n",
      "{'start_station_name': 'Fulton St & Broadway', 'start_station_id': 319, 'end_station_name': 'Gold St & Frankfort St', 'end_station_id': 3489, 'usertype': 'Customer', 'bikeid': 15942, 'tripduration': 7513}\n"
     ]
    }
   ],
   "source": [
    "# Examples of the code working below when it has been provided with several dictionaries to take in and read. This is really just to show that bike theft records can be taken in, reviewed\n",
    "# and then if necessary a message outputted from the analysze function within the code.\n",
    "\n",
    "with open(\"data/theft_data.json\") as data:\n",
    "    theft_data = json.load(data)\n",
    "\n",
    "\n",
    "for data_pack in theft_data:\n",
    "    theft_work = theft_analysis.analyze_bike_status(data_pack)\n",
    "    print(theft_work)"
   ]
  }
 ],
 "metadata": {
  "kernelspec": {
   "display_name": "tr_venv",
   "language": "python",
   "name": "python3"
  },
  "language_info": {
   "codemirror_mode": {
    "name": "ipython",
    "version": 3
   },
   "file_extension": ".py",
   "mimetype": "text/x-python",
   "name": "python",
   "nbconvert_exporter": "python",
   "pygments_lexer": "ipython3",
   "version": "3.9.6"
  }
 },
 "nbformat": 4,
 "nbformat_minor": 2
}
